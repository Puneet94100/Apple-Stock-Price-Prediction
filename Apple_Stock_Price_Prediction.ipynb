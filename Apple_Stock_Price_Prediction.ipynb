{
  "nbformat": 4,
  "nbformat_minor": 0,
  "metadata": {
    "colab": {
      "provenance": []
    },
    "kernelspec": {
      "name": "python3",
      "display_name": "Python 3"
    },
    "language_info": {
      "name": "python"
    },
    "accelerator": "GPU",
    "gpuClass": "standard"
  },
  "cells": [
    {
      "cell_type": "markdown",
      "source": [
        "Stock Market Prediction And Forecasting Using Stacked LSTM"
      ],
      "metadata": {
        "id": "bqE-ExoMWM4O"
      }
    },
    {
      "cell_type": "markdown",
      "source": [
        "# Import the libraries"
      ],
      "metadata": {
        "id": "3JHY_1r9cPB1"
      }
    },
    {
      "cell_type": "code",
      "source": [
        "### importing the libraries\n",
        "\n",
        "import pandas as pd\n",
        "import numpy as np\n",
        "import matplotlib.pyplot as plt\n",
        "import seaborn as sns\n",
        "import os\n",
        "\n",
        "from sklearn.preprocessing import MinMaxScaler\n",
        "\n",
        "\n",
        "from tensorflow.keras.models import Sequential\n",
        "from tensorflow.keras.layers import Dense\n",
        "from tensorflow.keras.layers import LSTM"
      ],
      "metadata": {
        "id": "lqQb6YH-WGmH"
      },
      "execution_count": 5,
      "outputs": []
    },
    {
      "cell_type": "markdown",
      "source": [
        "# Data Collection"
      ],
      "metadata": {
        "id": "FmkvxA2Dcadd"
      }
    },
    {
      "cell_type": "code",
      "source": [
        "# Data Collection\n",
        "\n",
        "# I have used my API_Key but I am not sharing my API_Key\n",
        "# API_key=my_api\n",
        "import pandas_datareader as pdr\n",
        "API_key=\"write your key\""
      ],
      "metadata": {
        "id": "69ooWplJWQa_"
      },
      "execution_count": 1,
      "outputs": []
    },
    {
      "cell_type": "code",
      "source": [
        "\n",
        "\n",
        "# getting  data from tingo using api key\n",
        "apple= pdr.get_data_tiingo('AAPL', api_key=API_key)\n",
        "apple.head()"
      ],
      "metadata": {
        "colab": {
          "base_uri": "https://localhost:8080/",
          "height": 423
        },
        "id": "4NbSD9tvWXu2",
        "outputId": "d76cb637-254e-4504-ea57-2d0f2fc96fa3"
      },
      "execution_count": 30,
      "outputs": [
        {
          "output_type": "stream",
          "name": "stderr",
          "text": [
            "/usr/local/lib/python3.8/dist-packages/pandas_datareader/tiingo.py:234: FutureWarning: In a future version of pandas all arguments of concat except for the argument 'objs' will be keyword-only\n",
            "  return pd.concat(dfs, self._concat_axis)\n"
          ]
        },
        {
          "output_type": "execute_result",
          "data": {
            "text/plain": [
              "                                   close    high     low    open    volume  \\\n",
              "symbol date                                                                  \n",
              "AAPL   2018-02-07 00:00:00+00:00  159.54  163.40  159.07  163.09  50852130   \n",
              "       2018-02-08 00:00:00+00:00  155.15  161.00  155.03  160.29  49594129   \n",
              "       2018-02-09 00:00:00+00:00  156.41  157.89  150.24  157.07  66723743   \n",
              "       2018-02-12 00:00:00+00:00  162.71  163.89  157.51  158.50  60560145   \n",
              "       2018-02-13 00:00:00+00:00  164.34  164.75  161.65  161.95  32104756   \n",
              "\n",
              "                                   adjClose    adjHigh     adjLow    adjOpen  \\\n",
              "symbol date                                                                    \n",
              "AAPL   2018-02-07 00:00:00+00:00  37.877001  38.793419  37.765417  38.719820   \n",
              "       2018-02-08 00:00:00+00:00  36.834755  38.223626  36.806265  38.055062   \n",
              "       2018-02-09 00:00:00+00:00  37.283467  37.636255  35.812723  37.440791   \n",
              "       2018-02-12 00:00:00+00:00  38.785198  39.066475  37.545674  37.781660   \n",
              "       2018-02-13 00:00:00+00:00  39.173742  39.271473  38.532526  38.604037   \n",
              "\n",
              "                                  adjVolume  divCash  splitFactor  \n",
              "symbol date                                                        \n",
              "AAPL   2018-02-07 00:00:00+00:00  203408520     0.00          1.0  \n",
              "       2018-02-08 00:00:00+00:00  198376516     0.00          1.0  \n",
              "       2018-02-09 00:00:00+00:00  266894972     0.63          1.0  \n",
              "       2018-02-12 00:00:00+00:00  242240580     0.00          1.0  \n",
              "       2018-02-13 00:00:00+00:00  128419024     0.00          1.0  "
            ],
            "text/html": [
              "\n",
              "  <div id=\"df-d3a9e971-9acc-4b8b-bd55-39f6a0187a01\">\n",
              "    <div class=\"colab-df-container\">\n",
              "      <div>\n",
              "<style scoped>\n",
              "    .dataframe tbody tr th:only-of-type {\n",
              "        vertical-align: middle;\n",
              "    }\n",
              "\n",
              "    .dataframe tbody tr th {\n",
              "        vertical-align: top;\n",
              "    }\n",
              "\n",
              "    .dataframe thead th {\n",
              "        text-align: right;\n",
              "    }\n",
              "</style>\n",
              "<table border=\"1\" class=\"dataframe\">\n",
              "  <thead>\n",
              "    <tr style=\"text-align: right;\">\n",
              "      <th></th>\n",
              "      <th></th>\n",
              "      <th>close</th>\n",
              "      <th>high</th>\n",
              "      <th>low</th>\n",
              "      <th>open</th>\n",
              "      <th>volume</th>\n",
              "      <th>adjClose</th>\n",
              "      <th>adjHigh</th>\n",
              "      <th>adjLow</th>\n",
              "      <th>adjOpen</th>\n",
              "      <th>adjVolume</th>\n",
              "      <th>divCash</th>\n",
              "      <th>splitFactor</th>\n",
              "    </tr>\n",
              "    <tr>\n",
              "      <th>symbol</th>\n",
              "      <th>date</th>\n",
              "      <th></th>\n",
              "      <th></th>\n",
              "      <th></th>\n",
              "      <th></th>\n",
              "      <th></th>\n",
              "      <th></th>\n",
              "      <th></th>\n",
              "      <th></th>\n",
              "      <th></th>\n",
              "      <th></th>\n",
              "      <th></th>\n",
              "      <th></th>\n",
              "    </tr>\n",
              "  </thead>\n",
              "  <tbody>\n",
              "    <tr>\n",
              "      <th rowspan=\"5\" valign=\"top\">AAPL</th>\n",
              "      <th>2018-02-07 00:00:00+00:00</th>\n",
              "      <td>159.54</td>\n",
              "      <td>163.40</td>\n",
              "      <td>159.07</td>\n",
              "      <td>163.09</td>\n",
              "      <td>50852130</td>\n",
              "      <td>37.877001</td>\n",
              "      <td>38.793419</td>\n",
              "      <td>37.765417</td>\n",
              "      <td>38.719820</td>\n",
              "      <td>203408520</td>\n",
              "      <td>0.00</td>\n",
              "      <td>1.0</td>\n",
              "    </tr>\n",
              "    <tr>\n",
              "      <th>2018-02-08 00:00:00+00:00</th>\n",
              "      <td>155.15</td>\n",
              "      <td>161.00</td>\n",
              "      <td>155.03</td>\n",
              "      <td>160.29</td>\n",
              "      <td>49594129</td>\n",
              "      <td>36.834755</td>\n",
              "      <td>38.223626</td>\n",
              "      <td>36.806265</td>\n",
              "      <td>38.055062</td>\n",
              "      <td>198376516</td>\n",
              "      <td>0.00</td>\n",
              "      <td>1.0</td>\n",
              "    </tr>\n",
              "    <tr>\n",
              "      <th>2018-02-09 00:00:00+00:00</th>\n",
              "      <td>156.41</td>\n",
              "      <td>157.89</td>\n",
              "      <td>150.24</td>\n",
              "      <td>157.07</td>\n",
              "      <td>66723743</td>\n",
              "      <td>37.283467</td>\n",
              "      <td>37.636255</td>\n",
              "      <td>35.812723</td>\n",
              "      <td>37.440791</td>\n",
              "      <td>266894972</td>\n",
              "      <td>0.63</td>\n",
              "      <td>1.0</td>\n",
              "    </tr>\n",
              "    <tr>\n",
              "      <th>2018-02-12 00:00:00+00:00</th>\n",
              "      <td>162.71</td>\n",
              "      <td>163.89</td>\n",
              "      <td>157.51</td>\n",
              "      <td>158.50</td>\n",
              "      <td>60560145</td>\n",
              "      <td>38.785198</td>\n",
              "      <td>39.066475</td>\n",
              "      <td>37.545674</td>\n",
              "      <td>37.781660</td>\n",
              "      <td>242240580</td>\n",
              "      <td>0.00</td>\n",
              "      <td>1.0</td>\n",
              "    </tr>\n",
              "    <tr>\n",
              "      <th>2018-02-13 00:00:00+00:00</th>\n",
              "      <td>164.34</td>\n",
              "      <td>164.75</td>\n",
              "      <td>161.65</td>\n",
              "      <td>161.95</td>\n",
              "      <td>32104756</td>\n",
              "      <td>39.173742</td>\n",
              "      <td>39.271473</td>\n",
              "      <td>38.532526</td>\n",
              "      <td>38.604037</td>\n",
              "      <td>128419024</td>\n",
              "      <td>0.00</td>\n",
              "      <td>1.0</td>\n",
              "    </tr>\n",
              "  </tbody>\n",
              "</table>\n",
              "</div>\n",
              "      <button class=\"colab-df-convert\" onclick=\"convertToInteractive('df-d3a9e971-9acc-4b8b-bd55-39f6a0187a01')\"\n",
              "              title=\"Convert this dataframe to an interactive table.\"\n",
              "              style=\"display:none;\">\n",
              "        \n",
              "  <svg xmlns=\"http://www.w3.org/2000/svg\" height=\"24px\"viewBox=\"0 0 24 24\"\n",
              "       width=\"24px\">\n",
              "    <path d=\"M0 0h24v24H0V0z\" fill=\"none\"/>\n",
              "    <path d=\"M18.56 5.44l.94 2.06.94-2.06 2.06-.94-2.06-.94-.94-2.06-.94 2.06-2.06.94zm-11 1L8.5 8.5l.94-2.06 2.06-.94-2.06-.94L8.5 2.5l-.94 2.06-2.06.94zm10 10l.94 2.06.94-2.06 2.06-.94-2.06-.94-.94-2.06-.94 2.06-2.06.94z\"/><path d=\"M17.41 7.96l-1.37-1.37c-.4-.4-.92-.59-1.43-.59-.52 0-1.04.2-1.43.59L10.3 9.45l-7.72 7.72c-.78.78-.78 2.05 0 2.83L4 21.41c.39.39.9.59 1.41.59.51 0 1.02-.2 1.41-.59l7.78-7.78 2.81-2.81c.8-.78.8-2.07 0-2.86zM5.41 20L4 18.59l7.72-7.72 1.47 1.35L5.41 20z\"/>\n",
              "  </svg>\n",
              "      </button>\n",
              "      \n",
              "  <style>\n",
              "    .colab-df-container {\n",
              "      display:flex;\n",
              "      flex-wrap:wrap;\n",
              "      gap: 12px;\n",
              "    }\n",
              "\n",
              "    .colab-df-convert {\n",
              "      background-color: #E8F0FE;\n",
              "      border: none;\n",
              "      border-radius: 50%;\n",
              "      cursor: pointer;\n",
              "      display: none;\n",
              "      fill: #1967D2;\n",
              "      height: 32px;\n",
              "      padding: 0 0 0 0;\n",
              "      width: 32px;\n",
              "    }\n",
              "\n",
              "    .colab-df-convert:hover {\n",
              "      background-color: #E2EBFA;\n",
              "      box-shadow: 0px 1px 2px rgba(60, 64, 67, 0.3), 0px 1px 3px 1px rgba(60, 64, 67, 0.15);\n",
              "      fill: #174EA6;\n",
              "    }\n",
              "\n",
              "    [theme=dark] .colab-df-convert {\n",
              "      background-color: #3B4455;\n",
              "      fill: #D2E3FC;\n",
              "    }\n",
              "\n",
              "    [theme=dark] .colab-df-convert:hover {\n",
              "      background-color: #434B5C;\n",
              "      box-shadow: 0px 1px 3px 1px rgba(0, 0, 0, 0.15);\n",
              "      filter: drop-shadow(0px 1px 2px rgba(0, 0, 0, 0.3));\n",
              "      fill: #FFFFFF;\n",
              "    }\n",
              "  </style>\n",
              "\n",
              "      <script>\n",
              "        const buttonEl =\n",
              "          document.querySelector('#df-d3a9e971-9acc-4b8b-bd55-39f6a0187a01 button.colab-df-convert');\n",
              "        buttonEl.style.display =\n",
              "          google.colab.kernel.accessAllowed ? 'block' : 'none';\n",
              "\n",
              "        async function convertToInteractive(key) {\n",
              "          const element = document.querySelector('#df-d3a9e971-9acc-4b8b-bd55-39f6a0187a01');\n",
              "          const dataTable =\n",
              "            await google.colab.kernel.invokeFunction('convertToInteractive',\n",
              "                                                     [key], {});\n",
              "          if (!dataTable) return;\n",
              "\n",
              "          const docLinkHtml = 'Like what you see? Visit the ' +\n",
              "            '<a target=\"_blank\" href=https://colab.research.google.com/notebooks/data_table.ipynb>data table notebook</a>'\n",
              "            + ' to learn more about interactive tables.';\n",
              "          element.innerHTML = '';\n",
              "          dataTable['output_type'] = 'display_data';\n",
              "          await google.colab.output.renderOutput(dataTable, element);\n",
              "          const docLink = document.createElement('div');\n",
              "          docLink.innerHTML = docLinkHtml;\n",
              "          element.appendChild(docLink);\n",
              "        }\n",
              "      </script>\n",
              "    </div>\n",
              "  </div>\n",
              "  "
            ]
          },
          "metadata": {},
          "execution_count": 30
        }
      ]
    },
    {
      "cell_type": "code",
      "source": [
        "apple.tail()"
      ],
      "metadata": {
        "colab": {
          "base_uri": "https://localhost:8080/",
          "height": 388
        },
        "id": "ldaO6ofMWf-2",
        "outputId": "8a7f22ef-f9b1-46f8-aa22-ceedaccd8c2d"
      },
      "execution_count": 31,
      "outputs": [
        {
          "output_type": "execute_result",
          "data": {
            "text/plain": [
              "                                   close    high     low     open     volume  \\\n",
              "symbol date                                                                    \n",
              "AAPL   2023-01-30 00:00:00+00:00  143.00  145.55  142.85  144.955   64015274   \n",
              "       2023-01-31 00:00:00+00:00  144.29  144.34  142.28  142.700   65874459   \n",
              "       2023-02-01 00:00:00+00:00  145.43  146.61  141.32  143.970   77663633   \n",
              "       2023-02-02 00:00:00+00:00  150.82  151.18  148.17  148.900  118338980   \n",
              "       2023-02-03 00:00:00+00:00  154.50  157.38  147.83  148.030  154357337   \n",
              "\n",
              "                                  adjClose  adjHigh  adjLow  adjOpen  \\\n",
              "symbol date                                                            \n",
              "AAPL   2023-01-30 00:00:00+00:00    143.00   145.55  142.85  144.955   \n",
              "       2023-01-31 00:00:00+00:00    144.29   144.34  142.28  142.700   \n",
              "       2023-02-01 00:00:00+00:00    145.43   146.61  141.32  143.970   \n",
              "       2023-02-02 00:00:00+00:00    150.82   151.18  148.17  148.900   \n",
              "       2023-02-03 00:00:00+00:00    154.50   157.38  147.83  148.030   \n",
              "\n",
              "                                  adjVolume  divCash  splitFactor  \n",
              "symbol date                                                        \n",
              "AAPL   2023-01-30 00:00:00+00:00   64015274      0.0          1.0  \n",
              "       2023-01-31 00:00:00+00:00   65874459      0.0          1.0  \n",
              "       2023-02-01 00:00:00+00:00   77663633      0.0          1.0  \n",
              "       2023-02-02 00:00:00+00:00  118338980      0.0          1.0  \n",
              "       2023-02-03 00:00:00+00:00  154357337      0.0          1.0  "
            ],
            "text/html": [
              "\n",
              "  <div id=\"df-431ea1dc-295b-41d2-81d1-8bd800f091c4\">\n",
              "    <div class=\"colab-df-container\">\n",
              "      <div>\n",
              "<style scoped>\n",
              "    .dataframe tbody tr th:only-of-type {\n",
              "        vertical-align: middle;\n",
              "    }\n",
              "\n",
              "    .dataframe tbody tr th {\n",
              "        vertical-align: top;\n",
              "    }\n",
              "\n",
              "    .dataframe thead th {\n",
              "        text-align: right;\n",
              "    }\n",
              "</style>\n",
              "<table border=\"1\" class=\"dataframe\">\n",
              "  <thead>\n",
              "    <tr style=\"text-align: right;\">\n",
              "      <th></th>\n",
              "      <th></th>\n",
              "      <th>close</th>\n",
              "      <th>high</th>\n",
              "      <th>low</th>\n",
              "      <th>open</th>\n",
              "      <th>volume</th>\n",
              "      <th>adjClose</th>\n",
              "      <th>adjHigh</th>\n",
              "      <th>adjLow</th>\n",
              "      <th>adjOpen</th>\n",
              "      <th>adjVolume</th>\n",
              "      <th>divCash</th>\n",
              "      <th>splitFactor</th>\n",
              "    </tr>\n",
              "    <tr>\n",
              "      <th>symbol</th>\n",
              "      <th>date</th>\n",
              "      <th></th>\n",
              "      <th></th>\n",
              "      <th></th>\n",
              "      <th></th>\n",
              "      <th></th>\n",
              "      <th></th>\n",
              "      <th></th>\n",
              "      <th></th>\n",
              "      <th></th>\n",
              "      <th></th>\n",
              "      <th></th>\n",
              "      <th></th>\n",
              "    </tr>\n",
              "  </thead>\n",
              "  <tbody>\n",
              "    <tr>\n",
              "      <th rowspan=\"5\" valign=\"top\">AAPL</th>\n",
              "      <th>2023-01-30 00:00:00+00:00</th>\n",
              "      <td>143.00</td>\n",
              "      <td>145.55</td>\n",
              "      <td>142.85</td>\n",
              "      <td>144.955</td>\n",
              "      <td>64015274</td>\n",
              "      <td>143.00</td>\n",
              "      <td>145.55</td>\n",
              "      <td>142.85</td>\n",
              "      <td>144.955</td>\n",
              "      <td>64015274</td>\n",
              "      <td>0.0</td>\n",
              "      <td>1.0</td>\n",
              "    </tr>\n",
              "    <tr>\n",
              "      <th>2023-01-31 00:00:00+00:00</th>\n",
              "      <td>144.29</td>\n",
              "      <td>144.34</td>\n",
              "      <td>142.28</td>\n",
              "      <td>142.700</td>\n",
              "      <td>65874459</td>\n",
              "      <td>144.29</td>\n",
              "      <td>144.34</td>\n",
              "      <td>142.28</td>\n",
              "      <td>142.700</td>\n",
              "      <td>65874459</td>\n",
              "      <td>0.0</td>\n",
              "      <td>1.0</td>\n",
              "    </tr>\n",
              "    <tr>\n",
              "      <th>2023-02-01 00:00:00+00:00</th>\n",
              "      <td>145.43</td>\n",
              "      <td>146.61</td>\n",
              "      <td>141.32</td>\n",
              "      <td>143.970</td>\n",
              "      <td>77663633</td>\n",
              "      <td>145.43</td>\n",
              "      <td>146.61</td>\n",
              "      <td>141.32</td>\n",
              "      <td>143.970</td>\n",
              "      <td>77663633</td>\n",
              "      <td>0.0</td>\n",
              "      <td>1.0</td>\n",
              "    </tr>\n",
              "    <tr>\n",
              "      <th>2023-02-02 00:00:00+00:00</th>\n",
              "      <td>150.82</td>\n",
              "      <td>151.18</td>\n",
              "      <td>148.17</td>\n",
              "      <td>148.900</td>\n",
              "      <td>118338980</td>\n",
              "      <td>150.82</td>\n",
              "      <td>151.18</td>\n",
              "      <td>148.17</td>\n",
              "      <td>148.900</td>\n",
              "      <td>118338980</td>\n",
              "      <td>0.0</td>\n",
              "      <td>1.0</td>\n",
              "    </tr>\n",
              "    <tr>\n",
              "      <th>2023-02-03 00:00:00+00:00</th>\n",
              "      <td>154.50</td>\n",
              "      <td>157.38</td>\n",
              "      <td>147.83</td>\n",
              "      <td>148.030</td>\n",
              "      <td>154357337</td>\n",
              "      <td>154.50</td>\n",
              "      <td>157.38</td>\n",
              "      <td>147.83</td>\n",
              "      <td>148.030</td>\n",
              "      <td>154357337</td>\n",
              "      <td>0.0</td>\n",
              "      <td>1.0</td>\n",
              "    </tr>\n",
              "  </tbody>\n",
              "</table>\n",
              "</div>\n",
              "      <button class=\"colab-df-convert\" onclick=\"convertToInteractive('df-431ea1dc-295b-41d2-81d1-8bd800f091c4')\"\n",
              "              title=\"Convert this dataframe to an interactive table.\"\n",
              "              style=\"display:none;\">\n",
              "        \n",
              "  <svg xmlns=\"http://www.w3.org/2000/svg\" height=\"24px\"viewBox=\"0 0 24 24\"\n",
              "       width=\"24px\">\n",
              "    <path d=\"M0 0h24v24H0V0z\" fill=\"none\"/>\n",
              "    <path d=\"M18.56 5.44l.94 2.06.94-2.06 2.06-.94-2.06-.94-.94-2.06-.94 2.06-2.06.94zm-11 1L8.5 8.5l.94-2.06 2.06-.94-2.06-.94L8.5 2.5l-.94 2.06-2.06.94zm10 10l.94 2.06.94-2.06 2.06-.94-2.06-.94-.94-2.06-.94 2.06-2.06.94z\"/><path d=\"M17.41 7.96l-1.37-1.37c-.4-.4-.92-.59-1.43-.59-.52 0-1.04.2-1.43.59L10.3 9.45l-7.72 7.72c-.78.78-.78 2.05 0 2.83L4 21.41c.39.39.9.59 1.41.59.51 0 1.02-.2 1.41-.59l7.78-7.78 2.81-2.81c.8-.78.8-2.07 0-2.86zM5.41 20L4 18.59l7.72-7.72 1.47 1.35L5.41 20z\"/>\n",
              "  </svg>\n",
              "      </button>\n",
              "      \n",
              "  <style>\n",
              "    .colab-df-container {\n",
              "      display:flex;\n",
              "      flex-wrap:wrap;\n",
              "      gap: 12px;\n",
              "    }\n",
              "\n",
              "    .colab-df-convert {\n",
              "      background-color: #E8F0FE;\n",
              "      border: none;\n",
              "      border-radius: 50%;\n",
              "      cursor: pointer;\n",
              "      display: none;\n",
              "      fill: #1967D2;\n",
              "      height: 32px;\n",
              "      padding: 0 0 0 0;\n",
              "      width: 32px;\n",
              "    }\n",
              "\n",
              "    .colab-df-convert:hover {\n",
              "      background-color: #E2EBFA;\n",
              "      box-shadow: 0px 1px 2px rgba(60, 64, 67, 0.3), 0px 1px 3px 1px rgba(60, 64, 67, 0.15);\n",
              "      fill: #174EA6;\n",
              "    }\n",
              "\n",
              "    [theme=dark] .colab-df-convert {\n",
              "      background-color: #3B4455;\n",
              "      fill: #D2E3FC;\n",
              "    }\n",
              "\n",
              "    [theme=dark] .colab-df-convert:hover {\n",
              "      background-color: #434B5C;\n",
              "      box-shadow: 0px 1px 3px 1px rgba(0, 0, 0, 0.15);\n",
              "      filter: drop-shadow(0px 1px 2px rgba(0, 0, 0, 0.3));\n",
              "      fill: #FFFFFF;\n",
              "    }\n",
              "  </style>\n",
              "\n",
              "      <script>\n",
              "        const buttonEl =\n",
              "          document.querySelector('#df-431ea1dc-295b-41d2-81d1-8bd800f091c4 button.colab-df-convert');\n",
              "        buttonEl.style.display =\n",
              "          google.colab.kernel.accessAllowed ? 'block' : 'none';\n",
              "\n",
              "        async function convertToInteractive(key) {\n",
              "          const element = document.querySelector('#df-431ea1dc-295b-41d2-81d1-8bd800f091c4');\n",
              "          const dataTable =\n",
              "            await google.colab.kernel.invokeFunction('convertToInteractive',\n",
              "                                                     [key], {});\n",
              "          if (!dataTable) return;\n",
              "\n",
              "          const docLinkHtml = 'Like what you see? Visit the ' +\n",
              "            '<a target=\"_blank\" href=https://colab.research.google.com/notebooks/data_table.ipynb>data table notebook</a>'\n",
              "            + ' to learn more about interactive tables.';\n",
              "          element.innerHTML = '';\n",
              "          dataTable['output_type'] = 'display_data';\n",
              "          await google.colab.output.renderOutput(dataTable, element);\n",
              "          const docLink = document.createElement('div');\n",
              "          docLink.innerHTML = docLinkHtml;\n",
              "          element.appendChild(docLink);\n",
              "        }\n",
              "      </script>\n",
              "    </div>\n",
              "  </div>\n",
              "  "
            ]
          },
          "metadata": {},
          "execution_count": 31
        }
      ]
    },
    {
      "cell_type": "code",
      "source": [
        "# reading the data till 2022\n",
        "\n",
        "apple=apple.loc['AAPL'].loc[:'2020-02-02 00:00:00+00:00']"
      ],
      "metadata": {
        "id": "akvhFRD6Wm1-"
      },
      "execution_count": 32,
      "outputs": []
    },
    {
      "cell_type": "code",
      "source": [
        "# saving this data in csv format\n",
        "file_name='/content/drive/MyDrive/apple.csv'\n",
        "apple.to_csv(open(file_name,'w'))"
      ],
      "metadata": {
        "id": "fA_kQsB9Wp1G"
      },
      "execution_count": 33,
      "outputs": []
    },
    {
      "cell_type": "code",
      "source": [
        "df=pd.read_csv('/content/drive/MyDrive/apple.csv')"
      ],
      "metadata": {
        "id": "HlTToEHPXRFW"
      },
      "execution_count": 34,
      "outputs": []
    },
    {
      "cell_type": "code",
      "source": [
        "# extracting out the date only\n",
        "df['date']=df['date'].str.split().str[0]"
      ],
      "metadata": {
        "id": "C9nP-sVNYp7W"
      },
      "execution_count": 35,
      "outputs": []
    },
    {
      "cell_type": "code",
      "source": [
        "df1=df.reset_index()['close']"
      ],
      "metadata": {
        "id": "APB-41k0XIPm"
      },
      "execution_count": 36,
      "outputs": []
    },
    {
      "cell_type": "markdown",
      "source": [
        "# Visualization"
      ],
      "metadata": {
        "id": "OSDsEWl7cgOc"
      }
    },
    {
      "cell_type": "code",
      "source": [
        "\n",
        "plt.plot(df1)"
      ],
      "metadata": {
        "colab": {
          "base_uri": "https://localhost:8080/",
          "height": 282
        },
        "id": "sJMHfQIwXVsu",
        "outputId": "ac6e24b8-da24-478c-f1f6-30b869a3bdb8"
      },
      "execution_count": 37,
      "outputs": [
        {
          "output_type": "execute_result",
          "data": {
            "text/plain": [
              "[<matplotlib.lines.Line2D at 0x7fce7b7205e0>]"
            ]
          },
          "metadata": {},
          "execution_count": 37
        },
        {
          "output_type": "display_data",
          "data": {
            "text/plain": [
              "<Figure size 432x288 with 1 Axes>"
            ],
            "image/png": "[encoded data removed]"
          },
          "metadata": {
            "needs_background": "light"
          }
        }
      ]
    },
    {
      "cell_type": "markdown",
      "source": [
        "# LSTM\n",
        "- LSTM are sensitive to the scale of the data. so we apply MinMax scaler "
      ],
      "metadata": {
        "id": "4gyo9l9rZFPu"
      }
    },
    {
      "cell_type": "code",
      "source": [
        "\n",
        "from sklearn.preprocessing import MinMaxScaler\n",
        "scaler=MinMaxScaler(feature_range=(0,1))\n",
        "df1=scaler.fit_transform(np.array(df1).reshape(-1,1))"
      ],
      "metadata": {
        "id": "sJ2wskp2XmLm"
      },
      "execution_count": 38,
      "outputs": []
    },
    {
      "cell_type": "code",
      "source": [
        "df['close'].plot()"
      ],
      "metadata": {
        "colab": {
          "base_uri": "https://localhost:8080/",
          "height": 296
        },
        "id": "QSXJ-S9FYM4t",
        "outputId": "e09ad648-8f79-4c1f-c556-4c0710f02b08"
      },
      "execution_count": 25,
      "outputs": [
        {
          "output_type": "execute_result",
          "data": {
            "text/plain": [
              "<matplotlib.axes._subplots.AxesSubplot at 0x7fce7ba83cd0>"
            ]
          },
          "metadata": {},
          "execution_count": 25
        },
        {
          "output_type": "display_data",
          "data": {
            "text/plain": [
              "<Figure size 432x288 with 1 Axes>"
            ],
            "image/png": "[encoded data removed]"
          },
          "metadata": {
            "needs_background": "light"
          }
        }
      ]
    },
    {
      "cell_type": "code",
      "source": [
        "##splitting dataset into train and test split\n",
        "training_size=int(len(df1)*0.65)\n",
        "test_size=len(df1)-training_size\n",
        "train_data,test_data=df1[0:training_size,:],df1[training_size:len(df1),:1]"
      ],
      "metadata": {
        "id": "MGlCy4HbYZtN"
      },
      "execution_count": 39,
      "outputs": []
    },
    {
      "cell_type": "code",
      "source": [
        "training_size,test_size"
      ],
      "metadata": {
        "colab": {
          "base_uri": "https://localhost:8080/"
        },
        "id": "A3gE91T3ZK9V",
        "outputId": "a89f6de0-a9ee-4929-bbfa-f0bf85a0e8c2"
      },
      "execution_count": 40,
      "outputs": [
        {
          "output_type": "execute_result",
          "data": {
            "text/plain": [
              "(324, 175)"
            ]
          },
          "metadata": {},
          "execution_count": 40
        }
      ]
    },
    {
      "cell_type": "code",
      "source": [
        "train_data"
      ],
      "metadata": {
        "colab": {
          "base_uri": "https://localhost:8080/"
        },
        "id": "rAVfihH1ZNqF",
        "outputId": "e2ffa35c-3e6d-474f-dbd2-d92c13bcd53b"
      },
      "execution_count": 41,
      "outputs": [
        {
          "output_type": "execute_result",
          "data": {
            "text/plain": [
              "array([[0.09525117],\n",
              "       [0.07115015],\n",
              "       [0.07806753],\n",
              "       [0.11265441],\n",
              "       [0.12160307],\n",
              "       [0.13823772],\n",
              "       [0.16909141],\n",
              "       [0.16601702],\n",
              "       [0.16283283],\n",
              "       [0.15855065],\n",
              "       [0.16640132],\n",
              "       [0.18287126],\n",
              "       [0.20192149],\n",
              "       [0.1987373 ],\n",
              "       [0.19725501],\n",
              "       [0.18012627],\n",
              "       [0.18676915],\n",
              "       [0.19011803],\n",
              "       [0.18929454],\n",
              "       [0.18029097],\n",
              "       [0.19077683],\n",
              "       [0.20746637],\n",
              "       [0.21701894],\n",
              "       [0.20741147],\n",
              "       [0.1990118 ],\n",
              "       [0.2001647 ],\n",
              "       [0.19670601],\n",
              "       [0.18177326],\n",
              "       [0.18144386],\n",
              "       [0.15964864],\n",
              "       [0.14636289],\n",
              "       [0.12489706],\n",
              "       [0.16788361],\n",
              "       [0.143563  ],\n",
              "       [0.13335163],\n",
              "       [0.14048861],\n",
              "       [0.13444963],\n",
              "       [0.1438375 ],\n",
              "       [0.16151523],\n",
              "       [0.16804831],\n",
              "       [0.1437826 ],\n",
              "       [0.15295086],\n",
              "       [0.1705188 ],\n",
              "       [0.16607192],\n",
              "       [0.17540489],\n",
              "       [0.17864397],\n",
              "       [0.18462805],\n",
              "       [0.19791381],\n",
              "       [0.19571781],\n",
              "       [0.16804831],\n",
              "       [0.12917925],\n",
              "       [0.12654406],\n",
              "       [0.1139171 ],\n",
              "       [0.11781499],\n",
              "       [0.12094428],\n",
              "       [0.11051331],\n",
              "       [0.12665386],\n",
              "       [0.14773538],\n",
              "       [0.18874554],\n",
              "       [0.19050233],\n",
              "       [0.2286028 ],\n",
              "       [0.23590447],\n",
              "       [0.24079056],\n",
              "       [0.24798243],\n",
              "       [0.26269558],\n",
              "       [0.25473511],\n",
              "       [0.25231952],\n",
              "       [0.24293165],\n",
              "       [0.25248422],\n",
              "       [0.24595114],\n",
              "       [0.24221795],\n",
              "       [0.24946473],\n",
              "       [0.24688444],\n",
              "       [0.25347241],\n",
              "       [0.25231952],\n",
              "       [0.25468021],\n",
              "       [0.25094702],\n",
              "       [0.24875103],\n",
              "       [0.24529234],\n",
              "       [0.26379358],\n",
              "       [0.27252265],\n",
              "       [0.28064782],\n",
              "       [0.2843261 ],\n",
              "       [0.28147131],\n",
              "       [0.27180895],\n",
              "       [0.26922866],\n",
              "       [0.27499314],\n",
              "       [0.26631897],\n",
              "       [0.26686797],\n",
              "       [0.2561076 ],\n",
              "       [0.25555861],\n",
              "       [0.23881416],\n",
              "       [0.24326105],\n",
              "       [0.23755147],\n",
              "       [0.23458688],\n",
              "       [0.21948943],\n",
              "       [0.23189679],\n",
              "       [0.23041449],\n",
              "       [0.23777107],\n",
              "       [0.23562998],\n",
              "       [0.24699424],\n",
              "       [0.2290969 ],\n",
              "       [0.23722207],\n",
              "       [0.25133132],\n",
              "       [0.26566017],\n",
              "       [0.26439747],\n",
              "       [0.25083722],\n",
              "       [0.26813066],\n",
              "       [0.26977766],\n",
              "       [0.26747186],\n",
              "       [0.27043645],\n",
              "       [0.26467197],\n",
              "       [0.27279715],\n",
              "       [0.27038155],\n",
              "       [0.27131485],\n",
              "       [0.27894592],\n",
              "       [0.28893769],\n",
              "       [0.2855888 ],\n",
              "       [0.26785616],\n",
              "       [0.26198188],\n",
              "       [0.26406808],\n",
              "       [0.32561076],\n",
              "       [0.35794675],\n",
              "       [0.36124074],\n",
              "       [0.36716991],\n",
              "       [0.35640955],\n",
              "       [0.35717815],\n",
              "       [0.36612682],\n",
              "       [0.35871534],\n",
              "       [0.36607192],\n",
              "       [0.3709031 ],\n",
              "       [0.37359319],\n",
              "       [0.39050233],\n",
              "       [0.41388965],\n",
              "       [0.40225089],\n",
              "       [0.3999451 ],\n",
              "       [0.4       ],\n",
              "       [0.40241559],\n",
              "       [0.40609388],\n",
              "       [0.41586604],\n",
              "       [0.42552841],\n",
              "       [0.44353555],\n",
              "       [0.45479001],\n",
              "       [0.46906396],\n",
              "       [0.47307164],\n",
              "       [0.46489157],\n",
              "       [0.44419435],\n",
              "       [0.43431238],\n",
              "       [0.41800714],\n",
              "       [0.44831183],\n",
              "       [0.43304968],\n",
              "       [0.46236618],\n",
              "       [0.44825693],\n",
              "       [0.41553665],\n",
              "       [0.41751304],\n",
              "       [0.41822674],\n",
              "       [0.4273401 ],\n",
              "       [0.41432885],\n",
              "       [0.43151249],\n",
              "       [0.43919846],\n",
              "       [0.4294812 ],\n",
              "       [0.45435081],\n",
              "       [0.45868789],\n",
              "       [0.46703267],\n",
              "       [0.47812243],\n",
              "       [0.49343947],\n",
              "       [0.47104035],\n",
              "       [0.45072742],\n",
              "       [0.44787263],\n",
              "       [0.46489157],\n",
              "       [0.40719187],\n",
              "       [0.39670601],\n",
              "       [0.43875926],\n",
              "       [0.41268186],\n",
              "       [0.43897886],\n",
              "       [0.43370848],\n",
              "       [0.40532528],\n",
              "       [0.42338732],\n",
              "       [0.43074389],\n",
              "       [0.44216305],\n",
              "       [0.4002196 ],\n",
              "       [0.42607741],\n",
              "       [0.40686248],\n",
              "       [0.38457315],\n",
              "       [0.39039253],\n",
              "       [0.42091683],\n",
              "       [0.43936316],\n",
              "       [0.35844085],\n",
              "       [0.32610486],\n",
              "       [0.33807302],\n",
              "       [0.3720011 ],\n",
              "       [0.36398573],\n",
              "       [0.341916  ],\n",
              "       [0.2853692 ],\n",
              "       [0.27471864],\n",
              "       [0.24490804],\n",
              "       [0.27021685],\n",
              "       [0.28185561],\n",
              "       [0.23974746],\n",
              "       [0.19099643],\n",
              "       [0.18989844],\n",
              "       [0.16524842],\n",
              "       [0.17804008],\n",
              "       [0.17595388],\n",
              "       [0.21273676],\n",
              "       [0.20510568],\n",
              "       [0.1997804 ],\n",
              "       [0.23403788],\n",
              "       [0.18940434],\n",
              "       [0.17858907],\n",
              "       [0.14438649],\n",
              "       [0.15048037],\n",
              "       [0.14515509],\n",
              "       [0.14773538],\n",
              "       [0.15789185],\n",
              "       [0.12786165],\n",
              "       [0.11940708],\n",
              "       [0.13110074],\n",
              "       [0.10266264],\n",
              "       [0.08037332],\n",
              "       [0.04688444],\n",
              "       [0.02547351],\n",
              "       [0.08223991],\n",
              "       [0.07664013],\n",
              "       [0.07707933],\n",
              "       [0.0853692 ],\n",
              "       [0.0863574 ],\n",
              "       [0.        ],\n",
              "       [0.03332418],\n",
              "       [0.03151249],\n",
              "       [0.04699424],\n",
              "       [0.06104859],\n",
              "       [0.06373868],\n",
              "       [0.05544881],\n",
              "       [0.04287675],\n",
              "       [0.05973099],\n",
              "       [0.06999726],\n",
              "       [0.07504804],\n",
              "       [0.08031842],\n",
              "       [0.06099369],\n",
              "       [0.06439747],\n",
              "       [0.0576997 ],\n",
              "       [0.085479  ],\n",
              "       [0.07746363],\n",
              "       [0.06856986],\n",
              "       [0.12659896],\n",
              "       [0.13313203],\n",
              "       [0.13357123],\n",
              "       [0.15953884],\n",
              "       [0.17562449],\n",
              "       [0.17595388],\n",
              "       [0.15783695],\n",
              "       [0.15492726],\n",
              "       [0.14954708],\n",
              "       [0.15756245],\n",
              "       [0.15366456],\n",
              "       [0.15706835],\n",
              "       [0.15498216],\n",
              "       [0.15778205],\n",
              "       [0.16382103],\n",
              "       [0.15849575],\n",
              "       [0.16898161],\n",
              "       [0.17589898],\n",
              "       [0.17644798],\n",
              "       [0.17941257],\n",
              "       [0.16996981],\n",
              "       [0.17996157],\n",
              "       [0.18479275],\n",
              "       [0.18303596],\n",
              "       [0.17749108],\n",
              "       [0.16640132],\n",
              "       [0.16865221],\n",
              "       [0.20153719],\n",
              "       [0.21257206],\n",
              "       [0.21696404],\n",
              "       [0.2280538 ],\n",
              "       [0.24117486],\n",
              "       [0.25160582],\n",
              "       [0.24342575],\n",
              "       [0.25237442],\n",
              "       [0.29041998],\n",
              "       [0.26824046],\n",
              "       [0.25555861],\n",
              "       [0.24485314],\n",
              "       [0.25407631],\n",
              "       [0.25544881],\n",
              "       [0.26220148],\n",
              "       [0.26928356],\n",
              "       [0.2845457 ],\n",
              "       [0.29184738],\n",
              "       [0.29371397],\n",
              "       [0.30090585],\n",
              "       [0.31792479],\n",
              "       [0.3146308 ],\n",
              "       [0.32077958],\n",
              "       [0.31161131],\n",
              "       [0.31117211],\n",
              "       [0.3131485 ],\n",
              "       [0.3132583 ],\n",
              "       [0.33455943],\n",
              "       [0.33856712],\n",
              "       [0.3422454 ],\n",
              "       [0.35844085],\n",
              "       [0.35668405],\n",
              "       [0.34636289],\n",
              "       [0.34098271],\n",
              "       [0.3426846 ],\n",
              "       [0.32105408],\n",
              "       [0.37513039],\n",
              "       [0.36760911],\n",
              "       [0.38188306],\n",
              "       [0.36393083],\n",
              "       [0.33307713],\n",
              "       [0.33329673],\n",
              "       [0.32132858],\n",
              "       [0.30189404],\n",
              "       [0.23897886],\n",
              "       [0.25511941],\n",
              "       [0.26752676],\n",
              "       [0.26291518],\n",
              "       [0.256986  ],\n",
              "       [0.22454021],\n",
              "       [0.24381005],\n",
              "       [0.22283832]])"
            ]
          },
          "metadata": {},
          "execution_count": 41
        }
      ]
    },
    {
      "cell_type": "code",
      "source": [
        "\n",
        "# convert an array of values into a dataset matrix\n",
        "def create_dataset(dataset, time_step=1):\n",
        "\tdataX, dataY = [], []\n",
        "\tfor i in range(len(dataset)-time_step-1):\n",
        "\t\ta = dataset[i:(i+time_step), 0]   ###i=0, 0,1,2,3-----99   100 \n",
        "\t\tdataX.append(a)\n",
        "\t\tdataY.append(dataset[i + time_step, 0])\n",
        "\treturn np.array(dataX), np.array(dataY)"
      ],
      "metadata": {
        "id": "T5KwvMvFZPHF"
      },
      "execution_count": 42,
      "outputs": []
    },
    {
      "cell_type": "code",
      "source": [
        "\n",
        "# reshape into X=t,t+1,t+2,t+3 and Y=t+4\n",
        "time_step = 100\n",
        "X_train, y_train = create_dataset(train_data, time_step)\n",
        "X_test, ytest = create_dataset(test_data, time_step)"
      ],
      "metadata": {
        "id": "3feloEGnZWcF"
      },
      "execution_count": 43,
      "outputs": []
    },
    {
      "cell_type": "code",
      "source": [
        "print(X_train.shape), print(y_train.shape)\n"
      ],
      "metadata": {
        "colab": {
          "base_uri": "https://localhost:8080/"
        },
        "id": "7fep_D5GZZAm",
        "outputId": "725e5ef7-c334-458a-cb5e-a967ce564402"
      },
      "execution_count": 45,
      "outputs": [
        {
          "output_type": "stream",
          "name": "stdout",
          "text": [
            "(223, 100)\n",
            "(223,)\n"
          ]
        },
        {
          "output_type": "execute_result",
          "data": {
            "text/plain": [
              "(None, None)"
            ]
          },
          "metadata": {},
          "execution_count": 45
        }
      ]
    },
    {
      "cell_type": "code",
      "source": [
        "print(X_test.shape), print(ytest.shape)"
      ],
      "metadata": {
        "colab": {
          "base_uri": "https://localhost:8080/"
        },
        "id": "yUxAuOsiZa-d",
        "outputId": "d26ed2a4-f682-42e8-d4c9-a73f4c0ea4e6"
      },
      "execution_count": 46,
      "outputs": [
        {
          "output_type": "stream",
          "name": "stdout",
          "text": [
            "(74, 100)\n",
            "(74,)\n"
          ]
        },
        {
          "output_type": "execute_result",
          "data": {
            "text/plain": [
              "(None, None)"
            ]
          },
          "metadata": {},
          "execution_count": 46
        }
      ]
    },
    {
      "cell_type": "code",
      "source": [
        "# reshape input to be [samples, time steps, features] which is required for LSTM\n",
        "X_train =X_train.reshape(X_train.shape[0],X_train.shape[1] , 1)\n",
        "X_test = X_test.reshape(X_test.shape[0],X_test.shape[1] , 1)"
      ],
      "metadata": {
        "id": "4tOsmIAhZfj1"
      },
      "execution_count": 47,
      "outputs": []
    },
    {
      "cell_type": "code",
      "source": [],
      "metadata": {
        "id": "HRFm0T55ZhGV"
      },
      "execution_count": 48,
      "outputs": []
    },
    {
      "cell_type": "code",
      "source": [],
      "metadata": {
        "id": "QL065zVganWX"
      },
      "execution_count": null,
      "outputs": []
    },
    {
      "cell_type": "markdown",
      "source": [
        "# Model Building"
      ],
      "metadata": {
        "id": "9u1yVJxZanvP"
      }
    },
    {
      "cell_type": "code",
      "source": [
        "# Building the model\n",
        "\n",
        "model=Sequential()\n",
        "model.add(LSTM(50,return_sequences=True,input_shape=(100,1)))\n",
        "model.add(LSTM(50,return_sequences=True))\n",
        "model.add(LSTM(50))\n",
        "model.add(Dense(1))\n",
        "model.compile(loss='mean_squared_error',optimizer='adam')"
      ],
      "metadata": {
        "id": "TexzW_7iZisV"
      },
      "execution_count": 49,
      "outputs": []
    },
    {
      "cell_type": "code",
      "source": [
        "\n",
        "# summary of the model\n",
        "model.summary()"
      ],
      "metadata": {
        "colab": {
          "base_uri": "https://localhost:8080/"
        },
        "id": "kxoDN18bZk4l",
        "outputId": "37e02ae3-58ec-4553-fa64-c3ca3acfa0dd"
      },
      "execution_count": 50,
      "outputs": [
        {
          "output_type": "stream",
          "name": "stdout",
          "text": [
            "Model: \"sequential\"\n",
            "_________________________________________________________________\n",
            " Layer (type)                Output Shape              Param #   \n",
            "=================================================================\n",
            " lstm (LSTM)                 (None, 100, 50)           10400     \n",
            "                                                                 \n",
            " lstm_1 (LSTM)               (None, 100, 50)           20200     \n",
            "                                                                 \n",
            " lstm_2 (LSTM)               (None, 50)                20200     \n",
            "                                                                 \n",
            " dense (Dense)               (None, 1)                 51        \n",
            "                                                                 \n",
            "=================================================================\n",
            "Total params: 50,851\n",
            "Trainable params: 50,851\n",
            "Non-trainable params: 0\n",
            "_________________________________________________________________\n"
          ]
        }
      ]
    },
    {
      "cell_type": "code",
      "source": [
        "# train the model\n",
        "\n",
        "model.fit(X_train,y_train,validation_data=(X_test,ytest),epochs=100,batch_size=64,verbose=1)"
      ],
      "metadata": {
        "colab": {
          "base_uri": "https://localhost:8080/"
        },
        "id": "of3WD4YQZmkV",
        "outputId": "88800ca1-b083-4ab7-e81e-5b23d181fb4b"
      },
      "execution_count": 51,
      "outputs": [
        {
          "output_type": "stream",
          "name": "stdout",
          "text": [
            "Epoch 1/100\n",
            "4/4 [==============================] - 10s 352ms/step - loss: 0.0516 - val_loss: 0.0434\n",
            "Epoch 2/100\n",
            "4/4 [==============================] - 0s 32ms/step - loss: 0.0136 - val_loss: 0.0400\n",
            "Epoch 3/100\n",
            "4/4 [==============================] - 0s 29ms/step - loss: 0.0073 - val_loss: 0.1248\n",
            "Epoch 4/100\n",
            "4/4 [==============================] - 0s 30ms/step - loss: 0.0093 - val_loss: 0.0963\n",
            "Epoch 5/100\n",
            "4/4 [==============================] - 0s 23ms/step - loss: 0.0061 - val_loss: 0.0427\n",
            "Epoch 6/100\n",
            "4/4 [==============================] - 0s 26ms/step - loss: 0.0062 - val_loss: 0.0407\n",
            "Epoch 7/100\n",
            "4/4 [==============================] - 0s 24ms/step - loss: 0.0052 - val_loss: 0.0666\n",
            "Epoch 8/100\n",
            "4/4 [==============================] - 0s 23ms/step - loss: 0.0051 - val_loss: 0.0604\n",
            "Epoch 9/100\n",
            "4/4 [==============================] - 0s 22ms/step - loss: 0.0045 - val_loss: 0.0321\n",
            "Epoch 10/100\n",
            "4/4 [==============================] - 0s 23ms/step - loss: 0.0042 - val_loss: 0.0273\n",
            "Epoch 11/100\n",
            "4/4 [==============================] - 0s 23ms/step - loss: 0.0037 - val_loss: 0.0354\n",
            "Epoch 12/100\n",
            "4/4 [==============================] - 0s 26ms/step - loss: 0.0036 - val_loss: 0.0240\n",
            "Epoch 13/100\n",
            "4/4 [==============================] - 0s 23ms/step - loss: 0.0031 - val_loss: 0.0117\n",
            "Epoch 14/100\n",
            "4/4 [==============================] - 0s 23ms/step - loss: 0.0031 - val_loss: 0.0145\n",
            "Epoch 15/100\n",
            "4/4 [==============================] - 0s 24ms/step - loss: 0.0028 - val_loss: 0.0155\n",
            "Epoch 16/100\n",
            "4/4 [==============================] - 0s 23ms/step - loss: 0.0025 - val_loss: 0.0074\n",
            "Epoch 17/100\n",
            "4/4 [==============================] - 0s 25ms/step - loss: 0.0023 - val_loss: 0.0144\n",
            "Epoch 18/100\n",
            "4/4 [==============================] - 0s 23ms/step - loss: 0.0021 - val_loss: 0.0096\n",
            "Epoch 19/100\n",
            "4/4 [==============================] - 0s 23ms/step - loss: 0.0017 - val_loss: 0.0121\n",
            "Epoch 20/100\n",
            "4/4 [==============================] - 0s 23ms/step - loss: 0.0014 - val_loss: 0.0099\n",
            "Epoch 21/100\n",
            "4/4 [==============================] - 0s 23ms/step - loss: 0.0014 - val_loss: 0.0083\n",
            "Epoch 22/100\n",
            "4/4 [==============================] - 0s 24ms/step - loss: 0.0015 - val_loss: 0.0098\n",
            "Epoch 23/100\n",
            "4/4 [==============================] - 0s 24ms/step - loss: 0.0014 - val_loss: 0.0095\n",
            "Epoch 24/100\n",
            "4/4 [==============================] - 0s 23ms/step - loss: 0.0014 - val_loss: 0.0068\n",
            "Epoch 25/100\n",
            "4/4 [==============================] - 0s 22ms/step - loss: 0.0014 - val_loss: 0.0115\n",
            "Epoch 26/100\n",
            "4/4 [==============================] - 0s 23ms/step - loss: 0.0015 - val_loss: 0.0053\n",
            "Epoch 27/100\n",
            "4/4 [==============================] - 0s 23ms/step - loss: 0.0014 - val_loss: 0.0144\n",
            "Epoch 28/100\n",
            "4/4 [==============================] - 0s 27ms/step - loss: 0.0015 - val_loss: 0.0059\n",
            "Epoch 29/100\n",
            "4/4 [==============================] - 0s 23ms/step - loss: 0.0014 - val_loss: 0.0067\n",
            "Epoch 30/100\n",
            "4/4 [==============================] - 0s 23ms/step - loss: 0.0013 - val_loss: 0.0066\n",
            "Epoch 31/100\n",
            "4/4 [==============================] - 0s 23ms/step - loss: 0.0014 - val_loss: 0.0055\n",
            "Epoch 32/100\n",
            "4/4 [==============================] - 0s 23ms/step - loss: 0.0013 - val_loss: 0.0037\n",
            "Epoch 33/100\n",
            "4/4 [==============================] - 0s 23ms/step - loss: 0.0014 - val_loss: 0.0106\n",
            "Epoch 34/100\n",
            "4/4 [==============================] - 0s 23ms/step - loss: 0.0015 - val_loss: 0.0023\n",
            "Epoch 35/100\n",
            "4/4 [==============================] - 0s 23ms/step - loss: 0.0014 - val_loss: 0.0077\n",
            "Epoch 36/100\n",
            "4/4 [==============================] - 0s 22ms/step - loss: 0.0014 - val_loss: 0.0060\n",
            "Epoch 37/100\n",
            "4/4 [==============================] - 0s 25ms/step - loss: 0.0013 - val_loss: 0.0067\n",
            "Epoch 38/100\n",
            "4/4 [==============================] - 0s 23ms/step - loss: 0.0013 - val_loss: 0.0041\n",
            "Epoch 39/100\n",
            "4/4 [==============================] - 0s 23ms/step - loss: 0.0013 - val_loss: 0.0053\n",
            "Epoch 40/100\n",
            "4/4 [==============================] - 0s 22ms/step - loss: 0.0013 - val_loss: 0.0033\n",
            "Epoch 41/100\n",
            "4/4 [==============================] - 0s 22ms/step - loss: 0.0013 - val_loss: 0.0030\n",
            "Epoch 42/100\n",
            "4/4 [==============================] - 0s 25ms/step - loss: 0.0014 - val_loss: 0.0086\n",
            "Epoch 43/100\n",
            "4/4 [==============================] - 0s 23ms/step - loss: 0.0014 - val_loss: 0.0021\n",
            "Epoch 44/100\n",
            "4/4 [==============================] - 0s 23ms/step - loss: 0.0014 - val_loss: 0.0056\n",
            "Epoch 45/100\n",
            "4/4 [==============================] - 0s 23ms/step - loss: 0.0013 - val_loss: 0.0035\n",
            "Epoch 46/100\n",
            "4/4 [==============================] - 0s 22ms/step - loss: 0.0013 - val_loss: 0.0050\n",
            "Epoch 47/100\n",
            "4/4 [==============================] - 0s 22ms/step - loss: 0.0013 - val_loss: 0.0035\n",
            "Epoch 48/100\n",
            "4/4 [==============================] - 0s 23ms/step - loss: 0.0013 - val_loss: 0.0019\n",
            "Epoch 49/100\n",
            "4/4 [==============================] - 0s 24ms/step - loss: 0.0014 - val_loss: 0.0076\n",
            "Epoch 50/100\n",
            "4/4 [==============================] - 0s 25ms/step - loss: 0.0014 - val_loss: 0.0016\n",
            "Epoch 51/100\n",
            "4/4 [==============================] - 0s 25ms/step - loss: 0.0014 - val_loss: 0.0073\n",
            "Epoch 52/100\n",
            "4/4 [==============================] - 0s 22ms/step - loss: 0.0012 - val_loss: 0.0016\n",
            "Epoch 53/100\n",
            "4/4 [==============================] - 0s 23ms/step - loss: 0.0015 - val_loss: 0.0101\n",
            "Epoch 54/100\n",
            "4/4 [==============================] - 0s 25ms/step - loss: 0.0015 - val_loss: 0.0016\n",
            "Epoch 55/100\n",
            "4/4 [==============================] - 0s 24ms/step - loss: 0.0013 - val_loss: 0.0070\n",
            "Epoch 56/100\n",
            "4/4 [==============================] - 0s 24ms/step - loss: 0.0013 - val_loss: 0.0016\n",
            "Epoch 57/100\n",
            "4/4 [==============================] - 0s 23ms/step - loss: 0.0013 - val_loss: 0.0051\n",
            "Epoch 58/100\n",
            "4/4 [==============================] - 0s 23ms/step - loss: 0.0012 - val_loss: 0.0019\n",
            "Epoch 59/100\n",
            "4/4 [==============================] - 0s 25ms/step - loss: 0.0012 - val_loss: 0.0072\n",
            "Epoch 60/100\n",
            "4/4 [==============================] - 0s 24ms/step - loss: 0.0013 - val_loss: 0.0015\n",
            "Epoch 61/100\n",
            "4/4 [==============================] - 0s 27ms/step - loss: 0.0013 - val_loss: 0.0058\n",
            "Epoch 62/100\n",
            "4/4 [==============================] - 0s 26ms/step - loss: 0.0012 - val_loss: 0.0019\n",
            "Epoch 63/100\n",
            "4/4 [==============================] - 0s 23ms/step - loss: 0.0014 - val_loss: 0.0083\n",
            "Epoch 64/100\n",
            "4/4 [==============================] - 0s 23ms/step - loss: 0.0015 - val_loss: 0.0023\n",
            "Epoch 65/100\n",
            "4/4 [==============================] - 0s 25ms/step - loss: 0.0016 - val_loss: 0.0068\n",
            "Epoch 66/100\n",
            "4/4 [==============================] - 0s 25ms/step - loss: 0.0014 - val_loss: 0.0015\n",
            "Epoch 67/100\n",
            "4/4 [==============================] - 0s 23ms/step - loss: 0.0013 - val_loss: 0.0056\n",
            "Epoch 68/100\n",
            "4/4 [==============================] - 0s 23ms/step - loss: 0.0012 - val_loss: 0.0016\n",
            "Epoch 69/100\n",
            "4/4 [==============================] - 0s 24ms/step - loss: 0.0013 - val_loss: 0.0038\n",
            "Epoch 70/100\n",
            "4/4 [==============================] - 0s 26ms/step - loss: 0.0012 - val_loss: 0.0016\n",
            "Epoch 71/100\n",
            "4/4 [==============================] - 0s 24ms/step - loss: 0.0012 - val_loss: 0.0030\n",
            "Epoch 72/100\n",
            "4/4 [==============================] - 0s 23ms/step - loss: 0.0012 - val_loss: 0.0017\n",
            "Epoch 73/100\n",
            "4/4 [==============================] - 0s 23ms/step - loss: 0.0012 - val_loss: 0.0022\n",
            "Epoch 74/100\n",
            "4/4 [==============================] - 0s 25ms/step - loss: 0.0012 - val_loss: 0.0018\n",
            "Epoch 75/100\n",
            "4/4 [==============================] - 0s 24ms/step - loss: 0.0012 - val_loss: 0.0017\n",
            "Epoch 76/100\n",
            "4/4 [==============================] - 0s 23ms/step - loss: 0.0012 - val_loss: 0.0019\n",
            "Epoch 77/100\n",
            "4/4 [==============================] - 0s 23ms/step - loss: 0.0012 - val_loss: 0.0021\n",
            "Epoch 78/100\n",
            "4/4 [==============================] - 0s 24ms/step - loss: 0.0011 - val_loss: 0.0020\n",
            "Epoch 79/100\n",
            "4/4 [==============================] - 0s 25ms/step - loss: 0.0011 - val_loss: 0.0016\n",
            "Epoch 80/100\n",
            "4/4 [==============================] - 0s 29ms/step - loss: 0.0012 - val_loss: 0.0020\n",
            "Epoch 81/100\n",
            "4/4 [==============================] - 0s 25ms/step - loss: 0.0012 - val_loss: 0.0016\n",
            "Epoch 82/100\n",
            "4/4 [==============================] - 0s 26ms/step - loss: 0.0011 - val_loss: 0.0016\n",
            "Epoch 83/100\n",
            "4/4 [==============================] - 0s 31ms/step - loss: 0.0011 - val_loss: 0.0015\n",
            "Epoch 84/100\n",
            "4/4 [==============================] - 0s 26ms/step - loss: 0.0011 - val_loss: 0.0015\n",
            "Epoch 85/100\n",
            "4/4 [==============================] - 0s 25ms/step - loss: 0.0011 - val_loss: 0.0016\n",
            "Epoch 86/100\n",
            "4/4 [==============================] - 0s 25ms/step - loss: 0.0011 - val_loss: 0.0018\n",
            "Epoch 87/100\n",
            "4/4 [==============================] - 0s 29ms/step - loss: 0.0011 - val_loss: 0.0014\n",
            "Epoch 88/100\n",
            "4/4 [==============================] - 0s 24ms/step - loss: 0.0011 - val_loss: 0.0017\n",
            "Epoch 89/100\n",
            "4/4 [==============================] - 0s 25ms/step - loss: 0.0012 - val_loss: 0.0019\n",
            "Epoch 90/100\n",
            "4/4 [==============================] - 0s 27ms/step - loss: 0.0012 - val_loss: 0.0042\n",
            "Epoch 91/100\n",
            "4/4 [==============================] - 0s 25ms/step - loss: 0.0012 - val_loss: 0.0013\n",
            "Epoch 92/100\n",
            "4/4 [==============================] - 0s 25ms/step - loss: 0.0011 - val_loss: 0.0022\n",
            "Epoch 93/100\n",
            "4/4 [==============================] - 0s 29ms/step - loss: 0.0011 - val_loss: 0.0014\n",
            "Epoch 94/100\n",
            "4/4 [==============================] - 0s 29ms/step - loss: 0.0012 - val_loss: 0.0013\n",
            "Epoch 95/100\n",
            "4/4 [==============================] - 0s 27ms/step - loss: 0.0011 - val_loss: 0.0018\n",
            "Epoch 96/100\n",
            "4/4 [==============================] - 0s 27ms/step - loss: 0.0012 - val_loss: 0.0041\n",
            "Epoch 97/100\n",
            "4/4 [==============================] - 0s 26ms/step - loss: 0.0013 - val_loss: 0.0036\n",
            "Epoch 98/100\n",
            "4/4 [==============================] - 0s 24ms/step - loss: 0.0012 - val_loss: 0.0020\n",
            "Epoch 99/100\n",
            "4/4 [==============================] - 0s 26ms/step - loss: 0.0012 - val_loss: 0.0034\n",
            "Epoch 100/100\n",
            "4/4 [==============================] - 0s 27ms/step - loss: 0.0011 - val_loss: 0.0015\n"
          ]
        },
        {
          "output_type": "execute_result",
          "data": {
            "text/plain": [
              "<keras.callbacks.History at 0x7fcdc011b160>"
            ]
          },
          "metadata": {},
          "execution_count": 51
        }
      ]
    },
    {
      "cell_type": "markdown",
      "source": [
        "## Prediction"
      ],
      "metadata": {
        "id": "mMTpolVAa29d"
      }
    },
    {
      "cell_type": "code",
      "source": [
        "### Lets Do the prediction \n",
        "train_predict=model.predict(X_train)\n",
        "test_predict=model.predict(X_test)"
      ],
      "metadata": {
        "colab": {
          "base_uri": "https://localhost:8080/"
        },
        "id": "n637p5o2Zpnd",
        "outputId": "b9ad5083-4b7a-4599-dfcc-b35c8f3deaf4"
      },
      "execution_count": 52,
      "outputs": [
        {
          "output_type": "stream",
          "name": "stdout",
          "text": [
            "7/7 [==============================] - 1s 8ms/step\n",
            "3/3 [==============================] - 0s 9ms/step\n"
          ]
        }
      ]
    },
    {
      "cell_type": "code",
      "source": [
        "##Transformback to original form\n",
        "train_predict=scaler.inverse_transform(train_predict)\n",
        "test_predict=scaler.inverse_transform(test_predict)"
      ],
      "metadata": {
        "id": "pGHWc45UZvKV"
      },
      "execution_count": 53,
      "outputs": []
    },
    {
      "cell_type": "markdown",
      "source": [
        "## Performance "
      ],
      "metadata": {
        "id": "2SHUo7Gua8NF"
      }
    },
    {
      "cell_type": "code",
      "source": [
        "### Calculate RMSE performance metrics\n",
        "import math\n",
        "from sklearn.metrics import mean_squared_error\n",
        "math.sqrt(mean_squared_error(y_train,train_predict))"
      ],
      "metadata": {
        "colab": {
          "base_uri": "https://localhost:8080/"
        },
        "id": "nD0aUU7MZyQ9",
        "outputId": "4e75712e-78d5-461d-ce9c-f1815ec973d9"
      },
      "execution_count": 54,
      "outputs": [
        {
          "output_type": "execute_result",
          "data": {
            "text/plain": [
              "195.04784884990778"
            ]
          },
          "metadata": {},
          "execution_count": 54
        }
      ]
    },
    {
      "cell_type": "code",
      "source": [
        "### Test Data RMSE\n",
        "math.sqrt(mean_squared_error(ytest,test_predict))"
      ],
      "metadata": {
        "colab": {
          "base_uri": "https://localhost:8080/"
        },
        "id": "gUmtLKs3Zz_8",
        "outputId": "4dc87eaf-b810-403b-fdd7-0013aecc389b"
      },
      "execution_count": 55,
      "outputs": [
        {
          "output_type": "execute_result",
          "data": {
            "text/plain": [
              "279.95504162469507"
            ]
          },
          "metadata": {},
          "execution_count": 55
        }
      ]
    },
    {
      "cell_type": "code",
      "source": [
        "### Plotting \n",
        "# shift train predictions for plotting\n",
        "look_back=100\n",
        "trainPredictPlot = np.empty_like(df1)\n",
        "trainPredictPlot[:, :] = np.nan\n",
        "trainPredictPlot[look_back:len(train_predict)+look_back, :] = train_predict\n",
        "# shift test predictions for plotting\n",
        "testPredictPlot = np.empty_like(df1)\n",
        "testPredictPlot[:, :] = np.nan\n",
        "testPredictPlot[len(train_predict)+(look_back*2)+1:len(df1)-1, :] = test_predict\n",
        "# plot baseline and predictions\n",
        "plt.plot(scaler.inverse_transform(df1),label='oroginal')\n",
        "plt.plot(trainPredictPlot,label='tain_prediction')\n",
        "plt.plot(testPredictPlot,label='test_prediction')\n",
        "\n",
        "plt.legend()"
      ],
      "metadata": {
        "colab": {
          "base_uri": "https://localhost:8080/",
          "height": 282
        },
        "id": "ufIAbhHqZ11N",
        "outputId": "6ba29c73-fed4-484d-cda9-8ae50d143cff"
      },
      "execution_count": 60,
      "outputs": [
        {
          "output_type": "execute_result",
          "data": {
            "text/plain": [
              "<matplotlib.legend.Legend at 0x7fcda8ca2880>"
            ]
          },
          "metadata": {},
          "execution_count": 60
        },
        {
          "output_type": "display_data",
          "data": {
            "text/plain": [
              "<Figure size 432x288 with 1 Axes>"
            ],
            "image/png": "[encoded data removed]"
          },
          "metadata": {
            "needs_background": "light"
          }
        }
      ]
    },
    {
      "cell_type": "code",
      "source": [],
      "metadata": {
        "id": "98EMLT0XZ3m9"
      },
      "execution_count": null,
      "outputs": []
    }
  ]
}